{
 "cells": [
  {
   "cell_type": "markdown",
   "metadata": {
    "heading_collapsed": true
   },
   "source": [
    "# 创建和使用类"
   ]
  },
  {
   "cell_type": "code",
   "execution_count": 14,
   "metadata": {
    "hidden": true
   },
   "outputs": [
    {
     "name": "stdout",
     "output_type": "stream",
     "text": [
      "My dog's name is Willie.\n",
      "My dog is 6 years old.\n",
      "Willieis now sitting.\n",
      "\n",
      "Your dog's name is Lucy.\n",
      "Your dog is 3 years old.\n",
      "Lucyis now sitting.\n"
     ]
    }
   ],
   "source": [
    " class Dog():\n",
    "        \"\"\"一次模拟小狗的简单尝试\"\"\"\n",
    "        \n",
    "        def __init__(self, name, age):           # 方法__init__()每侧都有两个_ 形参self必不可少\n",
    "            \"\"\"初始化属性name和age\"\"\"\n",
    "            self.name = name\n",
    "            self.age = age\n",
    "        \n",
    "        def sit(self):\n",
    "            \"\"\"模拟小狗被命令时蹲下\"\"\"\n",
    "            print(self.name.title() + \"is now sitting.\")\n",
    "            \n",
    "        def roll_over(self):\n",
    "            \"\"\"模拟小狗被命令时打滚\"\"\"\n",
    "            print(self.name.title() + \" rolled over!\")\n",
    "            \n",
    "my_dog = Dog('willie', 6)\n",
    "your_dog = Dog('lucy', 3)\n",
    "\n",
    "print(\"My dog's name is \" + my_dog.name.title() + \".\") \n",
    "print(\"My dog is \" + str(my_dog.age) + \" years old.\")\n",
    "my_dog.sit()\n",
    "\n",
    "print(\"\\nYour dog's name is \" + your_dog.name.title() + \".\") \n",
    "print(\"Your dog is \" + str(your_dog.age) + \" years old.\")\n",
    "your_dog.sit()"
   ]
  },
  {
   "cell_type": "markdown",
   "metadata": {
    "heading_collapsed": true
   },
   "source": [
    "# 使用类和实例"
   ]
  },
  {
   "cell_type": "code",
   "execution_count": 4,
   "metadata": {
    "hidden": true
   },
   "outputs": [
    {
     "name": "stdout",
     "output_type": "stream",
     "text": [
      "2016 Audi A4\n"
     ]
    }
   ],
   "source": [
    "class Car():\n",
    "    \"\"\"一次模拟汽车的简单尝试\"\"\"\n",
    "    \n",
    "    def __init__(self, make, model, year):\n",
    "        \"\"\"初始化描述汽车的属性\"\"\"\n",
    "        self.make = make\n",
    "        self.model = model\n",
    "        self.year = year\n",
    "    \n",
    "    def get_descriptive_name(self):\n",
    "        \"\"\"返回整洁的描述性信息\"\"\"\n",
    "        long_name = str(self.year) + \" \" + self.make + \" \" + self.model\n",
    "        return long_name.title()\n",
    "    \n",
    "my_new_car = Car('audi', 'a4', 2016)\n",
    "print(my_new_car.get_descriptive_name())"
   ]
  },
  {
   "cell_type": "code",
   "execution_count": 5,
   "metadata": {
    "hidden": true
   },
   "outputs": [
    {
     "name": "stdout",
     "output_type": "stream",
     "text": [
      "2016 Audi A4\n",
      "This car has 0 miles on it.\n"
     ]
    }
   ],
   "source": [
    "class Car():\n",
    "    \"\"\"一次模拟汽车的简单尝试\"\"\"\n",
    "    \n",
    "    def __init__(self, make, model, year):\n",
    "        \"\"\"初始化描述汽车的属性\"\"\"\n",
    "        self.make = make\n",
    "        self.model = model\n",
    "        self.year = year\n",
    "        self.odometer_reading = 0   #  在__init__内指定初始值，就无需为它提供初始值的形参！！！\n",
    "    \n",
    "    def get_descriptive_name(self):\n",
    "        \"\"\"返回整洁的描述性信息\"\"\"\n",
    "        long_name = str(self.year) + \" \" + self.make + \" \" + self.model\n",
    "        return long_name.title()\n",
    "    \n",
    "    def read_odometer(self):\n",
    "        \"\"\"打印一条指出汽车里程的消息\"\"\"\n",
    "        print(\"This car has \" + str(self.odometer_reading) + \" miles on it.\")\n",
    "    \n",
    "my_new_car = Car('audi', 'a4', 2016)\n",
    "print(my_new_car.get_descriptive_name())\n",
    "my_new_car.read_odometer()"
   ]
  },
  {
   "cell_type": "code",
   "execution_count": 11,
   "metadata": {
    "hidden": true
   },
   "outputs": [
    {
     "name": "stdout",
     "output_type": "stream",
     "text": [
      "2016 Audi A4\n",
      "2013 Subaru Outback\n",
      "This car has 23500 miles on it.\n",
      "This car has 23600 miles on it.\n"
     ]
    }
   ],
   "source": [
    "class Car():\n",
    "    \"\"\"一次模拟汽车的简单尝试\"\"\"\n",
    "    \n",
    "    def __init__(self, make, model, year):\n",
    "        \"\"\"初始化描述汽车的属性\"\"\"\n",
    "        self.make = make\n",
    "        self.model = model\n",
    "        self.year = year\n",
    "        self.odometer_reading = 0   #  在__init__内指定初始值，就无需为它提供初始值的形参！！！\n",
    "    \n",
    "    def get_descriptive_name(self):\n",
    "        \"\"\"返回整洁的描述性信息\"\"\"\n",
    "        long_name = str(self.year) + \" \" + self.make + \" \" + self.model\n",
    "        return long_name.title()\n",
    "    \n",
    "    def read_odometer(self):\n",
    "        \"\"\"打印一条指出汽车里程的消息\"\"\"\n",
    "        print(\"This car has \" + str(self.odometer_reading) + \" miles on it.\")\n",
    "        \n",
    "    def update_odometer(self, mileage):\n",
    "        \"\"\"\n",
    "        将里程表度数设置为指定的值\n",
    "        禁止将里程表读数往回调\n",
    "        \"\"\" \n",
    "        if mileage >= self.odometer_reading:\n",
    "            self.odometer_reading = mileage\n",
    "        else:\n",
    "            print(\"You can't roll back an odometer!\")\n",
    "            \n",
    "    def increment_odometer(self, miles):\n",
    "        \"\"\"将里程碑表读书增加指定的量\"\"\"\n",
    "        self.odometer_reading += miles\n",
    "    \n",
    "my_new_car = Car('audi', 'a4', 2016)\n",
    "print(my_new_car.get_descriptive_name())\n",
    "\n",
    "my_used_car = Car('subaru', 'outback', 2013)\n",
    "print(my_used_car.get_descriptive_name())\n",
    "\n",
    "my_used_car.update_odometer(23500)\n",
    "my_used_car.read_odometer()\n",
    "\n",
    "my_used_car.increment_odometer(100)\n",
    "my_used_car.read_odometer()"
   ]
  },
  {
   "cell_type": "markdown",
   "metadata": {
    "heading_collapsed": true
   },
   "source": [
    "# 继承"
   ]
  },
  {
   "cell_type": "code",
   "execution_count": 9,
   "metadata": {
    "hidden": true
   },
   "outputs": [
    {
     "name": "stdout",
     "output_type": "stream",
     "text": [
      "2016 Tesla Model S\n",
      "This car has a 70-kwh battery.\n"
     ]
    }
   ],
   "source": [
    "class Car():\n",
    "    \"\"\"一次模拟汽车的简单尝试\"\"\"\n",
    "    \n",
    "    def __init__(self, make, model, year):\n",
    "        \"\"\"初始化描述汽车的属性\"\"\"\n",
    "        self.make = make\n",
    "        self.model = model\n",
    "        self.year = year\n",
    "        self.odometer_reading = 0   #  在__init__内指定初始值，就无需为它提供初始值的形参！！！\n",
    "    \n",
    "    def get_descriptive_name(self):\n",
    "        \"\"\"返回整洁的描述性信息\"\"\"\n",
    "        long_name = str(self.year) + \" \" + self.make + \" \" + self.model\n",
    "        return long_name.title()\n",
    "    \n",
    "    def read_odometer(self):\n",
    "        \"\"\"打印一条指出汽车里程的消息\"\"\"\n",
    "        print(\"This car has \" + str(self.odometer_reading) + \" miles on it.\")\n",
    "        \n",
    "    def update_odometer(self, mileage):\n",
    "        \"\"\"\n",
    "        将里程表度数设置为指定的值\n",
    "        禁止将里程表读数往回调\n",
    "        \"\"\" \n",
    "        if mileage >= self.odometer_reading:\n",
    "            self.odometer_reading = mileage\n",
    "        else:\n",
    "            print(\"You can't roll back an odometer!\")\n",
    "            \n",
    "    def increment_odometer(self, miles):\n",
    "        \"\"\"将里程碑表读书增加指定的量\"\"\"\n",
    "        self.odometer_reading += miles\n",
    "        \n",
    "class ElectricCar(Car):                       # 定义子类时，括号内制定父类的名称\n",
    "    \"\"\"电动汽车的独特之处\"\"\" \n",
    "    \n",
    "    def __init__(self, make , model, year):   # 方法__init__()接受创建Car实例所需的信息\n",
    "        \"\"\"\n",
    "        电动汽车的独特之处\n",
    "        初始化父类的属性， 再初始化电动汽车特有的属性\n",
    "        \"\"\"\n",
    "        super().__init__(make, model, year)   # 父类也称超类superclass，super函数将父类和子类关联起来  \n",
    "        self.battery_size = 70\n",
    "        \n",
    "    def describe_battery(self):\n",
    "        \"\"\"打印一条描述电瓶容量的消息\"\"\"\n",
    "        print(\"This car has a \" + str(self.battery_size) + \"-kwh battery.\")\n",
    "    \n",
    "my_tesla = ElectricCar('tesla', 'model s', '2016')\n",
    "print(my_tesla.get_descriptive_name())\n",
    "my_tesla.describe_battery() "
   ]
  },
  {
   "cell_type": "code",
   "execution_count": 10,
   "metadata": {
    "hidden": true
   },
   "outputs": [
    {
     "name": "stdout",
     "output_type": "stream",
     "text": [
      "2016 Tesla Model S\n",
      "This car has a 70-kwh battery.\n"
     ]
    }
   ],
   "source": [
    "class Car():\n",
    "    \"\"\"一次模拟汽车的简单尝试\"\"\"\n",
    "    \n",
    "    def __init__(self, make, model, year):\n",
    "        \"\"\"初始化描述汽车的属性\"\"\"\n",
    "        self.make = make\n",
    "        self.model = model\n",
    "        self.year = year\n",
    "        self.odometer_reading = 0   #  在__init__内指定初始值，就无需为它提供初始值的形参！！！\n",
    "    \n",
    "    def get_descriptive_name(self):\n",
    "        \"\"\"返回整洁的描述性信息\"\"\"\n",
    "        long_name = str(self.year) + \" \" + self.make + \" \" + self.model\n",
    "        return long_name.title()\n",
    "    \n",
    "    def read_odometer(self):\n",
    "        \"\"\"打印一条指出汽车里程的消息\"\"\"\n",
    "        print(\"This car has \" + str(self.odometer_reading) + \" miles on it.\")\n",
    "        \n",
    "    def update_odometer(self, mileage):\n",
    "        \"\"\"\n",
    "        将里程表度数设置为指定的值\n",
    "        禁止将里程表读数往回调\n",
    "        \"\"\" \n",
    "        if mileage >= self.odometer_reading:\n",
    "            self.odometer_reading = mileage\n",
    "        else:\n",
    "            print(\"You can't roll back an odometer!\")\n",
    "            \n",
    "    def increment_odometer(self, miles):\n",
    "        \"\"\"将里程碑表读书增加指定的量\"\"\"\n",
    "        self.odometer_reading += miles\n",
    "\n",
    "class Battery():\n",
    "    \"\"\"一次模拟电动汽车电瓶的简单尝试\"\"\"\n",
    "    \n",
    "    def __init__(self, battery_size=70):\n",
    "        \"\"\"初始化电瓶的属性\"\"\"\n",
    "        self.battery_size = battery_size\n",
    "        \n",
    "    def describe_battery(self):\n",
    "        \"\"\"打印一条描述电瓶容量的消息\"\"\"\n",
    "        print(\"This car has a \" + str(self.battery_size) + \"-kwh battery.\")\n",
    "        \n",
    "        \n",
    "class ElectricCar(Car):                       # 定义子类时，括号内制定父类的名称\n",
    "    \"\"\"电动汽车的独特之处\"\"\" \n",
    "    \n",
    "    def __init__(self, make , model, year):   # 方法__init__()接受创建Car实例所需的信息\n",
    "        \"\"\"\n",
    "        电动汽车的独特之处\n",
    "        初始化父类的属性， 再初始化电动汽车特有的属性\n",
    "        \"\"\"\n",
    "        super().__init__(make, model, year)   # 父类也称超类superclass，super函数将父类和子类关联起来  \n",
    "        self.battery = Battery()\n",
    "        \n",
    "my_tesla = ElectricCar('tesla', 'model s', '2016')\n",
    "\n",
    "print(my_tesla.get_descriptive_name())\n",
    "\n",
    "my_tesla.battery.describe_battery()  # 在实例my_tesla中查找属性battery，并对储存在该属性中的Battery实例调用方法describe_battery() \n",
    "    "
   ]
  },
  {
   "cell_type": "code",
   "execution_count": 11,
   "metadata": {
    "hidden": true
   },
   "outputs": [
    {
     "name": "stdout",
     "output_type": "stream",
     "text": [
      "2016 Tesla Model S\n",
      "This car has a 70-kwh battery.\n",
      "This car can go approximately 240 miles on a full charge.\n"
     ]
    }
   ],
   "source": [
    "class Car():\n",
    "    \"\"\"一次模拟汽车的简单尝试\"\"\"\n",
    "    \n",
    "    def __init__(self, make, model, year):\n",
    "        \"\"\"初始化描述汽车的属性\"\"\"\n",
    "        self.make = make\n",
    "        self.model = model\n",
    "        self.year = year\n",
    "        self.odometer_reading = 0   #  在__init__内指定初始值，就无需为它提供初始值的形参！！！\n",
    "    \n",
    "    def get_descriptive_name(self):\n",
    "        \"\"\"返回整洁的描述性信息\"\"\"\n",
    "        long_name = str(self.year) + \" \" + self.make + \" \" + self.model\n",
    "        return long_name.title()\n",
    "    \n",
    "    def read_odometer(self):\n",
    "        \"\"\"打印一条指出汽车里程的消息\"\"\"\n",
    "        print(\"This car has \" + str(self.odometer_reading) + \" miles on it.\")\n",
    "        \n",
    "    def update_odometer(self, mileage):\n",
    "        \"\"\"\n",
    "        将里程表度数设置为指定的值\n",
    "        禁止将里程表读数往回调\n",
    "        \"\"\" \n",
    "        if mileage >= self.odometer_reading:\n",
    "            self.odometer_reading = mileage\n",
    "        else:\n",
    "            print(\"You can't roll back an odometer!\")\n",
    "            \n",
    "    def increment_odometer(self, miles):\n",
    "        \"\"\"将里程碑表读书增加指定的量\"\"\"\n",
    "        self.odometer_reading += miles\n",
    "\n",
    "class Battery():\n",
    "    \"\"\"一次模拟电动汽车电瓶的简单尝试\"\"\"\n",
    "    \n",
    "    def __init__(self, battery_size=70):\n",
    "        \"\"\"初始化电瓶的属性\"\"\"\n",
    "        self.battery_size = battery_size\n",
    "        \n",
    "    def describe_battery(self):\n",
    "        \"\"\"打印一条描述电瓶容量的消息\"\"\"\n",
    "        print(\"This car has a \" + str(self.battery_size) + \"-kwh battery.\")\n",
    "        \n",
    "    def get_range(self):\n",
    "        \"\"\"打印一条消息， 指出电瓶的续航里程\"\"\"\n",
    "        if self.battery_size == 70:\n",
    "            range = 240\n",
    "        elif self.battery_size == 85:\n",
    "            range = 270\n",
    "            \n",
    "        message = \"This car can go approximately \" + str(range)\n",
    "        message += \" miles on a full charge.\"\n",
    "        print(message)\n",
    "        \n",
    "class ElectricCar(Car):                       # 定义子类时，括号内制定父类的名称\n",
    "    \"\"\"电动汽车的独特之处\"\"\" \n",
    "    \n",
    "    def __init__(self, make , model, year):   # 方法__init__()接受创建Car实例所需的信息\n",
    "        \"\"\"\n",
    "        电动汽车的独特之处\n",
    "        初始化父类的属性， 再初始化电动汽车特有的属性\n",
    "        \"\"\"\n",
    "        super().__init__(make, model, year)   # 父类也称超类superclass，super函数将父类和子类关联起来  \n",
    "        self.battery = Battery()\n",
    "        \n",
    "my_tesla = ElectricCar('tesla', 'model s', '2016')\n",
    "print(my_tesla.get_descriptive_name())\n",
    "my_tesla.battery.describe_battery()\n",
    "my_tesla.battery.get_range()"
   ]
  },
  {
   "cell_type": "markdown",
   "metadata": {
    "heading_collapsed": true
   },
   "source": [
    "# 导入类"
   ]
  },
  {
   "cell_type": "code",
   "execution_count": null,
   "metadata": {
    "hidden": true
   },
   "outputs": [],
   "source": [
    " # 参见VS Code"
   ]
  },
  {
   "cell_type": "markdown",
   "metadata": {},
   "source": [
    "# Python标准库"
   ]
  },
  {
   "cell_type": "code",
   "execution_count": 13,
   "metadata": {},
   "outputs": [
    {
     "name": "stdout",
     "output_type": "stream",
     "text": [
      "Jen's favorite language is Pyhton.\n",
      "Sarah's favorite language is C.\n",
      "Edward's favorite language is Ruby.\n",
      "Phil's favorite language is Pyhton.\n"
     ]
    }
   ],
   "source": [
    "from collections import OrderedDict\n",
    "\n",
    "favorite_languages = OrderedDict()\n",
    "\n",
    "favorite_languages['jen'] = 'pyhton'\n",
    "favorite_languages['sarah'] = 'c'\n",
    "favorite_languages['edward'] = 'ruby'\n",
    "favorite_languages['phil'] = 'pyhton'\n",
    "\n",
    "for name, language in favorite_languages.items():\n",
    "    print(name.title() + \"'s favorite language is \" + \n",
    "         language.title() + \".\")"
   ]
  },
  {
   "cell_type": "markdown",
   "metadata": {
    "heading_collapsed": true
   },
   "source": [
    "# 类编码风格"
   ]
  },
  {
   "cell_type": "code",
   "execution_count": null,
   "metadata": {
    "hidden": true
   },
   "outputs": [],
   "source": [
    "# 类名应采用驼峰命名法，即将类命名中的每个单词的首字母都大写，而不使用下划线。\n",
    "# 实例名和模块都采用小写格式，并在单词之间加上下划线。"
   ]
  },
  {
   "cell_type": "markdown",
   "metadata": {},
   "source": [
    "# 动手试一试"
   ]
  },
  {
   "cell_type": "markdown",
   "metadata": {
    "heading_collapsed": true
   },
   "source": [
    "## 9-1"
   ]
  },
  {
   "cell_type": "code",
   "execution_count": 22,
   "metadata": {
    "hidden": true
   },
   "outputs": [
    {
     "name": "stdout",
     "output_type": "stream",
     "text": [
      "\n",
      "The restaurant's name is Alumni Sichuan Restaurant.\n",
      "The cuisine of the restaurant is Sichuan Cuisine.\n",
      "\n",
      "The Alumni Sichuan Restaurant specializes Sichuan Cuisine.\n",
      "\n",
      "The Alumni Sichuan Restaurant is opening!\n"
     ]
    }
   ],
   "source": [
    "class Restaurant():\n",
    "    \"\"\"一次模拟餐厅的简单尝试\"\"\"\n",
    "    \n",
    "    def __init__(self, restaurant_name, cuisine_type): \n",
    "        \"\"\"初始化属性resturant_name和cuisine_type\"\"\"\n",
    "        self.restaurant_name = restaurant_name\n",
    "        self.cuisine_type = cuisine_type\n",
    "    \n",
    "    def describe_restaurant(self):\n",
    "        \"\"\"简述餐厅\"\"\"\n",
    "        print(\"\\nThe \" + self.restaurant_name.title() + \" specializes \" + \n",
    "             self.cuisine_type.title() + \".\")         \n",
    "        \n",
    "    def open_restaurant(self):\n",
    "        \"\"\"餐厅正在营业\"\"\"\n",
    "        print(\"\\nThe \" + self.restaurant_name.title() + \" is opening!\")\n",
    "        \n",
    "restaurant = Restaurant('alumni sichuan restaurant', 'sichuan cuisine')\n",
    "print(\"\\nThe restaurant's name is \" + restaurant.restaurant_name.title() + \".\")\n",
    "print(\"The cuisine of the restaurant is \" + restaurant.cuisine_type.title() + \".\")\n",
    "\n",
    "restaurant.describe_restaurant()\n",
    "restaurant.open_restaurant()"
   ]
  },
  {
   "cell_type": "markdown",
   "metadata": {
    "heading_collapsed": true
   },
   "source": [
    "## 9-2"
   ]
  },
  {
   "cell_type": "code",
   "execution_count": 2,
   "metadata": {
    "hidden": true
   },
   "outputs": [
    {
     "name": "stdout",
     "output_type": "stream",
     "text": [
      "\n",
      "The Kowloon Hotel specializes Shandong Cuisine.\n",
      "\n",
      "The Xiao Long Kan Hot Pot specializes Sichuan Cuisine.\n",
      "\n",
      "The Chu Township Cooking specializes Hunan Cuisine.\n"
     ]
    }
   ],
   "source": [
    "class Restaurant():\n",
    "    \"\"\"一次模拟餐厅的简单尝试\"\"\"\n",
    "    \n",
    "    def __init__(self, restaurant_name, cuisine_type): \n",
    "        \"\"\"初始化属性resturant_name和cuisine_type\"\"\"\n",
    "        self.restaurant_name = restaurant_name\n",
    "        self.cuisine_type = cuisine_type\n",
    "    \n",
    "    def describe_restaurant(self):\n",
    "        \"\"\"简述餐厅\"\"\"\n",
    "        print(\"\\nThe \" + self.restaurant_name.title() + \" specializes \" + \n",
    "             self.cuisine_type.title() + \".\")         \n",
    "        \n",
    "    def open_restaurant(self):\n",
    "        \"\"\"餐厅正在营业\"\"\"\n",
    "        print(\"\\nThe \" + self.restaurant_name.title() + \" is opening!\")\n",
    "        \n",
    "restaurant_1 = Restaurant('kowloon hotel', 'shandong cuisine')\n",
    "restaurant_2 = Restaurant('xiao long kan hot pot', 'sichuan cuisine')\n",
    "restaurant_3 = Restaurant('chu township cooking', 'hunan cuisine')\n",
    "\n",
    "restaurant_1.describe_restaurant()\n",
    "restaurant_2.describe_restaurant()\n",
    "restaurant_3.describe_restaurant()"
   ]
  },
  {
   "cell_type": "markdown",
   "metadata": {
    "heading_collapsed": true
   },
   "source": [
    "## 9-3"
   ]
  },
  {
   "cell_type": "code",
   "execution_count": 3,
   "metadata": {
    "hidden": true
   },
   "outputs": [
    {
     "name": "stdout",
     "output_type": "stream",
     "text": [
      "This user's name is Kevin Durant.\n",
      "Nice to meet you, Tian Hebe.\n"
     ]
    }
   ],
   "source": [
    "class User():\n",
    "    \"\"\"存储用户信息， 并互动\"\"\"\n",
    "    \n",
    "    def __init__(self, first_name, last_name, age ,gender):\n",
    "        \"\"\"初始化用户姓名\"\"\"\n",
    "        self.first_name = first_name\n",
    "        self.last_name = last_name\n",
    "        self.age = age\n",
    "        self.gender = gender\n",
    "        \n",
    "    def describe_user(self):\n",
    "        \"\"\"打印用户信息摘要\"\"\"\n",
    "        print(\"This user's name is \" + self.first_name.title() + \" \" +\n",
    "              self.last_name.title() + \".\")\n",
    "        \n",
    "    def greet_user(self):\n",
    "        \"\"\"想用户发出个性化的问候\"\"\"\n",
    "        print(\"Nice to meet you, \" + self.first_name.title() + \" \" +\n",
    "              self.last_name.title() + \".\")\n",
    "        \n",
    "\n",
    "user_1 = User('kevin', 'durant', 32, 'male')\n",
    "user_2 = User('tian', 'hebe', 18, 'female')\n",
    "\n",
    "user_1.describe_user()\n",
    "user_2.greet_user()"
   ]
  },
  {
   "cell_type": "markdown",
   "metadata": {
    "heading_collapsed": true
   },
   "source": [
    "## 9-4"
   ]
  },
  {
   "cell_type": "code",
   "execution_count": 18,
   "metadata": {
    "hidden": true
   },
   "outputs": [
    {
     "name": "stdout",
     "output_type": "stream",
     "text": [
      "0 people have dined here.\n",
      "1735 people have dined here.\n",
      "3517 people have dined here.\n",
      "3535 people have dined here.\n"
     ]
    }
   ],
   "source": [
    "class Restaurant():\n",
    "    \"\"\"一次模拟餐厅的简单尝试\"\"\"\n",
    "    \n",
    "    def __init__(self, restaurant_name, cuisine_type): \n",
    "        \"\"\"初始化属性resturant_name和cuisine_type\"\"\"\n",
    "        self.restaurant_name = restaurant_name\n",
    "        self.cuisine_type = cuisine_type\n",
    "        self.number_served = 0\n",
    "    \n",
    "    def describe_restaurant(self):\n",
    "        \"\"\"简述餐厅\"\"\"\n",
    "        print(\"\\nThe \" + self.restaurant_name.title() + \" specializes \" + \n",
    "             self.cuisine_type.title() + \".\")         \n",
    "        \n",
    "    def open_restaurant(self):\n",
    "        \"\"\"餐厅正在营业\"\"\"\n",
    "        print(\"\\nThe \" + self.restaurant_name.title() + \" is opening!\")\n",
    "        \n",
    "    def served_number(self):\n",
    "        \"\"\"打印就餐人数\"\"\"\n",
    "        print(str(self.number_served) + \" people have dined here.\")\n",
    "        \n",
    "    def set_number_served(self, number):\n",
    "        \"\"\"设置就餐人数\"\"\"\n",
    "        self.number_served = number\n",
    "        \n",
    "    def increment_number_served(self, number):\n",
    "        \"\"\"将就餐人数递增\"\"\"\n",
    "        self.number_served += number\n",
    "        \n",
    "        \n",
    "restaurant = Restaurant('alumni sichuan restaurant', 'sichuan cuisine')\n",
    "restaurant.served_number()\n",
    "\n",
    "restaurant.number_served = 1735\n",
    "restaurant.served_number()\n",
    "\n",
    "restaurant.set_number_served(3517)\n",
    "restaurant.served_number()\n",
    " \n",
    "restaurant.increment_number_served(18)\n",
    "restaurant.served_number()"
   ]
  },
  {
   "cell_type": "markdown",
   "metadata": {
    "heading_collapsed": true
   },
   "source": [
    "## 9-5"
   ]
  },
  {
   "cell_type": "code",
   "execution_count": 7,
   "metadata": {
    "hidden": true
   },
   "outputs": [
    {
     "name": "stdout",
     "output_type": "stream",
     "text": [
      "The user logged in 5 times.\n",
      "Now, the user logged in 0 times.\n"
     ]
    }
   ],
   "source": [
    "class User():\n",
    "    \"\"\"存储用户信息， 并互动\"\"\"\n",
    "    \n",
    "    def __init__(self, first_name, last_name, age ,gender):\n",
    "        \"\"\"初始化用户姓名\"\"\"\n",
    "        self.first_name = first_name\n",
    "        self.last_name = last_name\n",
    "        self.age = age\n",
    "        self.gender = gender\n",
    "        self.login_attempts = 0\n",
    "        \n",
    "    def describe_user(self):\n",
    "        \"\"\"打印用户信息摘要\"\"\"\n",
    "        print(\"This user's name is \" + self.first_name.title() + \" \" +\n",
    "              self.last_name.title() + \".\")\n",
    "        \n",
    "    def greet_user(self):\n",
    "        \"\"\"想用户发出个性化的问候\"\"\"\n",
    "        print(\"Nice to meet you, \" + self.first_name.title() + \" \" +\n",
    "              self.last_name.title() + \".\")\n",
    "        \n",
    "    def increment_login_attempts(self):\n",
    "        \"\"\"记录登陆一次\"\"\"\n",
    "        self.login_attempts += 1\n",
    "        \n",
    "    def reset_login_attempts(self):\n",
    "        \"\"\"将登陆次数重置为0\"\"\"\n",
    "        self.login_attempts = 0\n",
    "        \n",
    "user_test = User('kevin', 'durant', 32, 'male')\n",
    "user_test.increment_login_attempts()\n",
    "user_test.increment_login_attempts()\n",
    "user_test.increment_login_attempts()\n",
    "user_test.increment_login_attempts()\n",
    "user_test.increment_login_attempts()\n",
    "print(\"The user logged in \" + str(user_test.login_attempts) + \" times.\")\n",
    "\n",
    "user_test.reset_login_attempts()\n",
    "print(\"Now, the user logged in \" + str(user_test.login_attempts) + \" times.\")"
   ]
  },
  {
   "cell_type": "markdown",
   "metadata": {
    "heading_collapsed": true
   },
   "source": [
    "## 9-6"
   ]
  },
  {
   "cell_type": "code",
   "execution_count": 29,
   "metadata": {
    "hidden": true
   },
   "outputs": [
    {
     "name": "stdout",
     "output_type": "stream",
     "text": [
      "The Colca has the following flavors: \n",
      "\tNuts\n",
      "\tChocolate\n",
      "\tMango\n",
      "\tMatcha\n"
     ]
    }
   ],
   "source": [
    "class Restaurant():\n",
    "    \"\"\"一次模拟餐厅的简单尝试\"\"\"\n",
    "    \n",
    "    def __init__(self, restaurant_name, cuisine_type): \n",
    "        \"\"\"初始化属性resturant_name和cuisine_type\"\"\"\n",
    "        self.restaurant_name = restaurant_name\n",
    "        self.cuisine_type = cuisine_type\n",
    "        self.number_served = 0\n",
    "    \n",
    "    def describe_restaurant(self):\n",
    "        \"\"\"简述餐厅\"\"\"\n",
    "        print(\"\\nThe \" + self.restaurant_name.title() + \" specializes \" + \n",
    "             self.cuisine_type.title() + \".\")         \n",
    "        \n",
    "    def open_restaurant(self):\n",
    "        \"\"\"餐厅正在营业\"\"\"\n",
    "        print(\"\\nThe \" + self.restaurant_name.title() + \" is opening!\")\n",
    "        \n",
    "    def served_number(self):\n",
    "        \"\"\"打印就餐人数\"\"\"\n",
    "        print(str(self.number_served) + \" people have dined here.\")\n",
    "        \n",
    "    def set_number_served(self, number):\n",
    "        \"\"\"设置就餐人数\"\"\"\n",
    "        self.number_served = number\n",
    "        \n",
    "    def increment_number_served(self, number):\n",
    "        \"\"\"将就餐人数递增\"\"\"\n",
    "        self.number_served += number\n",
    "        \n",
    "class IceCreamStand(Restaurant):\n",
    "    \"\"\"冰激凌小店是一种特殊的餐馆\"\"\"\n",
    "    \n",
    "    def __init__(self, restaurant_name, cuisine_type):\n",
    "        \"\"\"初始化冰激凌小店的属性\"\"\"\n",
    "        super().__init__(restaurant_name, cuisine_type)\n",
    "        self.flavors = ['nuts', 'chocolate', 'mango', 'matcha']\n",
    "        \n",
    "    def describe_icecream(self):\n",
    "        \"\"\"打印一条消息显示这些冰激凌的口味\"\"\"\n",
    "        print(\"The \" + self.restaurant_name.title() + \" has the following flavors: \")\n",
    "        for flavor in self.flavors:\n",
    "            print('\\t' + flavor.title())\n",
    "               \n",
    "my_icecreamstand = IceCreamStand('colca', 'ice cream')\n",
    "my_icecreamstand.describe_icecream()\n"
   ]
  },
  {
   "cell_type": "markdown",
   "metadata": {
    "heading_collapsed": true
   },
   "source": [
    "## 9-7"
   ]
  },
  {
   "cell_type": "code",
   "execution_count": 31,
   "metadata": {
    "hidden": true
   },
   "outputs": [
    {
     "name": "stdout",
     "output_type": "stream",
     "text": [
      "The privileges have following available:\n",
      "\tCan Add Post\n",
      "\tCan Delete Post\n",
      "\tCan Ban User\n"
     ]
    }
   ],
   "source": [
    "class User():\n",
    "    \"\"\"存储用户信息， 并互动\"\"\"\n",
    "    \n",
    "    def __init__(self, first_name, last_name, age ,gender):\n",
    "        \"\"\"初始化用户姓名\"\"\"\n",
    "        self.first_name = first_name\n",
    "        self.last_name = last_name\n",
    "        self.age = age\n",
    "        self.gender = gender\n",
    "        self.login_attempts = 0\n",
    "        \n",
    "    def describe_user(self):\n",
    "        \"\"\"打印用户信息摘要\"\"\"\n",
    "        print(\"This user's name is \" + self.first_name.title() + \" \" +\n",
    "              self.last_name.title() + \".\")\n",
    "        \n",
    "    def greet_user(self):\n",
    "        \"\"\"想用户发出个性化的问候\"\"\"\n",
    "        print(\"Nice to meet you, \" + self.first_name.title() + \" \" +\n",
    "              self.last_name.title() + \".\")\n",
    "        \n",
    "    def increment_login_attempts(self):\n",
    "        \"\"\"记录登陆一次\"\"\"\n",
    "        self.login_attempts += 1\n",
    "        \n",
    "    def reset_login_attempts(self):\n",
    "        \"\"\"将登陆次数重置为0\"\"\"\n",
    "        self.login_attempts = 0\n",
    "        \n",
    "class Admin(User):\n",
    "    \"\"\"管理员是一种特殊的用户！！！\"\"\"\n",
    "    \n",
    "    def __init__(self, first_name, last_name, age ,gender):\n",
    "        \"\"\"初始化管理员姓名\"\"\"\n",
    "        super().__init__(first_name, last_name, age ,gender)\n",
    "        self.privileges = ['can add post', 'can delete post', 'can ban user']\n",
    "        \n",
    "    def show_privileges(self):\n",
    "        \"\"\"显示管理员的权限\"\"\"\n",
    "        print(\"The privileges have following available:\")\n",
    "        for privilege in self.privileges:\n",
    "            print(\"\\t\" + privilege.title())\n",
    "\n",
    "admin_0 = Admin('ding', 'morven', 24, 'male')\n",
    "admin_0.show_privileges()"
   ]
  },
  {
   "cell_type": "markdown",
   "metadata": {
    "heading_collapsed": true
   },
   "source": [
    "## 9-8"
   ]
  },
  {
   "cell_type": "code",
   "execution_count": 10,
   "metadata": {
    "code_folding": [
     9,
     11
    ],
    "hidden": true
   },
   "outputs": [
    {
     "name": "stdout",
     "output_type": "stream",
     "text": [
      "The privileges have following available:\n",
      "\tCan Add Post\n",
      "\tCan Delete Post\n",
      "\tCan Ban User\n"
     ]
    }
   ],
   "source": [
    "class User():\n",
    "    \"\"\"存储用户信息， 并互动\"\"\"\n",
    "    \n",
    "    def __init__(self, first_name, last_name, age ,gender):\n",
    "        \"\"\"初始化用户姓名\"\"\"\n",
    "        self.first_name = first_name\n",
    "        self.last_name = last_name\n",
    "        self.age = age\n",
    "        self.gender = gender\n",
    "        self.login_attempts = 0\n",
    "        \n",
    "    def describe_user(self):\n",
    "        \"\"\"打印用户信息摘要\"\"\"\n",
    "        print(\"This user's name is \" + self.first_name.title() + \" \" +\n",
    "              self.last_name.title() + \".\")\n",
    "        \n",
    "    def greet_user(self):\n",
    "        \"\"\"想用户发出个性化的问候\"\"\"\n",
    "        print(\"Nice to meet you, \" + self.first_name.title() + \" \" +\n",
    "              self.last_name.title() + \".\")\n",
    "        \n",
    "    def increment_login_attempts(self):\n",
    "        \"\"\"记录登陆一次\"\"\"\n",
    "        self.login_attempts += 1\n",
    "        \n",
    "    def reset_login_attempts(self):\n",
    "        \"\"\"将登陆次数重置为0\"\"\"\n",
    "        self.login_attempts = 0\n",
    "        \n",
    "class Privileges():\n",
    "    \"\"\"尊贵的管理员!!!\"\"\"\n",
    "    \n",
    "    def __init__(self):                          # 课本143底部————给属性指定默认值\n",
    "        \"\"\"尊贵的管理员拥有的权限\"\"\"\n",
    "        self.privileges = ['can add post', 'can delete post', 'can ban user']\n",
    "        \n",
    "    def show_privileges(self):\n",
    "        \"\"\"显示管理员的权限\"\"\"\n",
    "        print(\"The privileges have following available:\")\n",
    "        for privilege in self.privileges:\n",
    "            print(\"\\t\" + privilege.title())\n",
    "        \n",
    "class Admin(User):\n",
    "    \"\"\"管理员是一种特殊的用户！！！\"\"\"\n",
    "    \n",
    "    def __init__(self, first_name, last_name, age ,gender):\n",
    "        \"\"\"初始化管理员姓名\"\"\"\n",
    "        super().__init__(first_name, last_name, age ,gender)\n",
    "        self.privileges = Privileges()\n",
    "        \n",
    "admin_test = Admin('ding', 'morven', 24, 'male') \n",
    "admin_test.privileges.show_privileges()\n",
    "    "
   ]
  },
  {
   "cell_type": "markdown",
   "metadata": {
    "heading_collapsed": true
   },
   "source": [
    "## 9-9 "
   ]
  },
  {
   "cell_type": "code",
   "execution_count": 12,
   "metadata": {
    "hidden": true
   },
   "outputs": [
    {
     "name": "stdout",
     "output_type": "stream",
     "text": [
      "This car can go approximately 240 miles on a full charge.\n",
      "This car can go approximately 270 miles on a full charge.\n"
     ]
    }
   ],
   "source": [
    "class Car():\n",
    "    \"\"\"一次模拟汽车的简单尝试\"\"\"\n",
    "    \n",
    "    def __init__(self, make, model, year):\n",
    "        \"\"\"初始化描述汽车的属性\"\"\"\n",
    "        self.make = make\n",
    "        self.model = model\n",
    "        self.year = year\n",
    "        self.odometer_reading = 0   #  在__init__内指定初始值，就无需为它提供初始值的形参！！！\n",
    "    \n",
    "    def get_descriptive_name(self):\n",
    "        \"\"\"返回整洁的描述性信息\"\"\"\n",
    "        long_name = str(self.year) + \" \" + self.make + \" \" + self.model\n",
    "        return long_name.title()\n",
    "    \n",
    "    def read_odometer(self):\n",
    "        \"\"\"打印一条指出汽车里程的消息\"\"\"\n",
    "        print(\"This car has \" + str(self.odometer_reading) + \" miles on it.\")\n",
    "        \n",
    "    def update_odometer(self, mileage):\n",
    "        \"\"\"\n",
    "        将里程表度数设置为指定的值\n",
    "        禁止将里程表读数往回调\n",
    "        \"\"\" \n",
    "        if mileage >= self.odometer_reading:\n",
    "            self.odometer_reading = mileage\n",
    "        else:\n",
    "            print(\"You can't roll back an odometer!\")\n",
    "            \n",
    "    def increment_odometer(self, miles):\n",
    "        \"\"\"将里程碑表读书增加指定的量\"\"\"\n",
    "        self.odometer_reading += miles\n",
    "\n",
    "class Battery():\n",
    "    \"\"\"一次模拟电动汽车电瓶的简单尝试\"\"\"\n",
    "    \n",
    "    def __init__(self, battery_size=70):\n",
    "        \"\"\"初始化电瓶的属性\"\"\"\n",
    "        self.battery_size = battery_size\n",
    "        \n",
    "    def describe_battery(self):\n",
    "        \"\"\"打印一条描述电瓶容量的消息\"\"\"\n",
    "        print(\"This car has a \" + str(self.battery_size) + \"-kwh battery.\")\n",
    "        \n",
    "    def get_range(self):\n",
    "        \"\"\"打印一条消息， 指出电瓶的续航里程\"\"\"\n",
    "        if self.battery_size == 70:\n",
    "            range = 240\n",
    "        elif self.battery_size == 85:\n",
    "            range = 270\n",
    "            \n",
    "        message = \"This car can go approximately \" + str(range)\n",
    "        message += \" miles on a full charge.\"\n",
    "        print(message)\n",
    "        \n",
    "    def update_battery(self):\n",
    "        \"\"\"检查电瓶容量并升级电瓶\"\"\"\n",
    "        if self.battery_size != 85:\n",
    "            self.battery_size = 85                \n",
    "        \n",
    "class ElectricCar(Car):                       # 定义子类时，括号内制定父类的名称\n",
    "    \"\"\"电动汽车的独特之处\"\"\" \n",
    "    \n",
    "    def __init__(self, make , model, year):   # 方法__init__()接受创建Car实例所需的信息\n",
    "        \"\"\"\n",
    "        电动汽车的独特之处\n",
    "        初始化父类的属性， 再初始化电动汽车特有的属性\n",
    "        \"\"\"\n",
    "        super().__init__(make, model, year)   # 父类也称超类superclass，super函数将父类和子类关联起来  \n",
    "        self.battery = Battery()   \n",
    "        \n",
    "my_tesla = ElectricCar('tesla', 'model s', 2016)\n",
    "my_tesla.battery.get_range()\n",
    "my_tesla.battery.update_battery()\n",
    "my_tesla.battery.get_range()"
   ]
  },
  {
   "cell_type": "markdown",
   "metadata": {
    "heading_collapsed": true
   },
   "source": [
    "## 9-13"
   ]
  },
  {
   "cell_type": "code",
   "execution_count": 16,
   "metadata": {
    "hidden": true
   },
   "outputs": [
    {
     "name": "stdout",
     "output_type": "stream",
     "text": [
      "If语句的功能是：判断语句\n",
      "For语句的功能是：Make A Loop\n",
      "Print语句的功能是：Print Something\n",
      "Title语句的功能是：Capitalize The Initials Of Words\n",
      "Upper语句的功能是：Capitalize All Letters Of Words\n"
     ]
    }
   ],
   "source": [
    "from collections import OrderedDict\n",
    "\n",
    "dictionary = OrderedDict()\n",
    "\n",
    "dictionary['if'] = '判断语句'\n",
    "dictionary['for'] = 'make a loop'\n",
    "dictionary['print'] = 'print something'\n",
    "dictionary['title'] = 'capitalize the initials of words'\n",
    "dictionary['upper'] = 'capitalize all letters of words'\n",
    "\n",
    "for name, function in dictionary.items():    \n",
    "    print(name.title() + \"语句的功能是：\" + function.title())"
   ]
  },
  {
   "cell_type": "markdown",
   "metadata": {
    "heading_collapsed": true
   },
   "source": [
    "## 9-14"
   ]
  },
  {
   "cell_type": "code",
   "execution_count": 31,
   "metadata": {
    "hidden": true
   },
   "outputs": [
    {
     "name": "stdout",
     "output_type": "stream",
     "text": [
      "The number of dice is 1.\n",
      "The number of dice is 5.\n",
      "The number of dice is 5.\n",
      "The number of dice is 5.\n",
      "The number of dice is 4.\n",
      "The number of dice is 6.\n",
      "The number of dice is 2.\n",
      "The number of dice is 2.\n",
      "The number of dice is 3.\n",
      "The number of dice is 1.\n"
     ]
    }
   ],
   "source": [
    "from random import randint\n",
    "\n",
    "class Die():\n",
    "    \"\"\"投骰子！\"\"\"\n",
    "    \n",
    "    def __init__(self, sides=6):\n",
    "        \"\"\"模拟多面骰子\"\"\"\n",
    "        self.sides = sides\n",
    "        \n",
    "    def roll_die(self):\n",
    "        \"\"\"扔！\"\"\"\n",
    "        self.value = randint(1, self.sides)\n",
    "        print(\"The number of dice is \" + str(self.value) + \".\")\n",
    "        \n",
    "my_die_1 = Die(6)\n",
    "my_die_1.roll_die()\n",
    "my_die_1.roll_die()\n",
    "my_die_1.roll_die()\n",
    "my_die_1.roll_die()\n",
    "my_die_1.roll_die()\n",
    "my_die_1.roll_die()\n",
    "my_die_1.roll_die()\n",
    "my_die_1.roll_die()\n",
    "my_die_1.roll_die()\n",
    "my_die_1.roll_die()\n",
    "\n",
    "my_die_2 = Die(10)\n",
    "my_die_2.roll_die()"
   ]
  },
  {
   "cell_type": "code",
   "execution_count": 33,
   "metadata": {
    "hidden": true
   },
   "outputs": [
    {
     "name": "stdout",
     "output_type": "stream",
     "text": [
      "The number of dice is 4.\n",
      "The number of dice is 7.\n",
      "The number of dice is 9.\n",
      "The number of dice is 9.\n",
      "The number of dice is 9.\n",
      "The number of dice is 1.\n",
      "The number of dice is 1.\n",
      "The number of dice is 10.\n",
      "The number of dice is 6.\n",
      "The number of dice is 9.\n"
     ]
    }
   ],
   "source": [
    "my_die_2 = Die(10)\n",
    "my_die_2.roll_die()\n",
    "my_die_2.roll_die()\n",
    "my_die_2.roll_die()\n",
    "my_die_2.roll_die()\n",
    "my_die_2.roll_die()\n",
    "my_die_2.roll_die()\n",
    "my_die_2.roll_die()\n",
    "my_die_2.roll_die()\n",
    "my_die_2.roll_die()\n",
    "my_die_2.roll_die()"
   ]
  },
  {
   "cell_type": "code",
   "execution_count": 34,
   "metadata": {
    "hidden": true
   },
   "outputs": [
    {
     "name": "stdout",
     "output_type": "stream",
     "text": [
      "The number of dice is 19.\n",
      "The number of dice is 6.\n",
      "The number of dice is 15.\n",
      "The number of dice is 12.\n",
      "The number of dice is 14.\n",
      "The number of dice is 7.\n",
      "The number of dice is 9.\n",
      "The number of dice is 4.\n",
      "The number of dice is 7.\n",
      "The number of dice is 15.\n"
     ]
    }
   ],
   "source": [
    "my_die_3 = Die(20)\n",
    "my_die_3.roll_die()\n",
    "my_die_3.roll_die()\n",
    "my_die_3.roll_die()\n",
    "my_die_3.roll_die()\n",
    "my_die_3.roll_die()\n",
    "my_die_3.roll_die()\n",
    "my_die_3.roll_die()\n",
    "my_die_3.roll_die()\n",
    "my_die_3.roll_die()\n",
    "my_die_3.roll_die()"
   ]
  },
  {
   "cell_type": "markdown",
   "metadata": {},
   "source": [
    "## 9-15"
   ]
  },
  {
   "cell_type": "code",
   "execution_count": null,
   "metadata": {},
   "outputs": [],
   "source": [
    "# http://pymotw.com/ 查看其中的目录"
   ]
  },
  {
   "cell_type": "code",
   "execution_count": null,
   "metadata": {},
   "outputs": [],
   "source": []
  },
  {
   "cell_type": "code",
   "execution_count": null,
   "metadata": {},
   "outputs": [],
   "source": []
  },
  {
   "cell_type": "code",
   "execution_count": null,
   "metadata": {},
   "outputs": [],
   "source": [
    " "
   ]
  },
  {
   "cell_type": "code",
   "execution_count": null,
   "metadata": {},
   "outputs": [],
   "source": []
  },
  {
   "cell_type": "code",
   "execution_count": null,
   "metadata": {},
   "outputs": [],
   "source": []
  },
  {
   "cell_type": "code",
   "execution_count": null,
   "metadata": {},
   "outputs": [],
   "source": []
  },
  {
   "cell_type": "code",
   "execution_count": null,
   "metadata": {},
   "outputs": [],
   "source": []
  }
 ],
 "metadata": {
  "kernelspec": {
   "display_name": "Python 3",
   "language": "python",
   "name": "python3"
  },
  "language_info": {
   "codemirror_mode": {
    "name": "ipython",
    "version": 3
   },
   "file_extension": ".py",
   "mimetype": "text/x-python",
   "name": "python",
   "nbconvert_exporter": "python",
   "pygments_lexer": "ipython3",
   "version": "3.8.3"
  },
  "toc": {
   "base_numbering": 1,
   "nav_menu": {},
   "number_sections": true,
   "sideBar": true,
   "skip_h1_title": false,
   "title_cell": "Table of Contents",
   "title_sidebar": "Contents",
   "toc_cell": false,
   "toc_position": {
    "height": "calc(100% - 180px)",
    "left": "10px",
    "top": "150px",
    "width": "294.712px"
   },
   "toc_section_display": true,
   "toc_window_display": true
  }
 },
 "nbformat": 4,
 "nbformat_minor": 4
}
