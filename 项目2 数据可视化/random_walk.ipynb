{
 "cells": [
  {
   "cell_type": "code",
   "execution_count": null,
   "metadata": {},
   "outputs": [],
   "source": [
    "from random import choice\n",
    "\n",
    "class RandomWalk():\n",
    "    \"\"\"一个生成随机漫步数据的类\"\"\"\n",
    "    \n",
    "    def __init__(self, num_points=5000):\n",
    "        \"\"\"初始化随机漫步的属性\"\"\"\n",
    "        self.num_points = num_points\n",
    "\n",
    "        # 所有随机漫步都是始于(0,0)\n",
    "        self.x_values = [0]\n",
    "        self.y_values = [0]\n",
    "        \n",
    "    def get_step(self):\n",
    "        \"\"\"确定每次漫步移动的距离和方向，并计算这次漫步将如何移动\"\"\"\n",
    "        direction = choice([1, -1])\n",
    "        distance = choice([0, 1, 2, 3, 4, 5, 6, 7, 8])\n",
    "        step = direction * distance\n",
    "        \n",
    "        return step\n",
    "        \n",
    "    def fill_walk(self):\n",
    "        \"\"\"计算随机漫步包含的所有点\"\"\"\n",
    "        \n",
    "        # 不断漫步，直到列表到达指定的长度\n",
    "        while len(self.x_values) < self.num_points:\n",
    "            \n",
    "            x_step = self.get_step()\n",
    "            y_step = self.get_step()\n",
    "            \n",
    "            # 拒绝原地踏步\n",
    "            if x_step == 0 and y_step == 0:\n",
    "                continue\n",
    "            \n",
    "            # 计算下一个点的x和y值\n",
    "            next_x = self.x_values[-1] + x_step    # a[-1]表示列表中最后一个值\n",
    "            next_y = self.y_values[-1] + y_step\n",
    "            \n",
    "            self.x_values.append(next_x)\n",
    "            self.y_values.append(next_y)"
   ]
  }
 ],
 "metadata": {
  "kernelspec": {
   "display_name": "Python 3",
   "language": "python",
   "name": "python3"
  },
  "language_info": {
   "codemirror_mode": {
    "name": "ipython",
    "version": 3
   },
   "file_extension": ".py",
   "mimetype": "text/x-python",
   "name": "python",
   "nbconvert_exporter": "python",
   "pygments_lexer": "ipython3",
   "version": "3.8.3"
  },
  "toc": {
   "base_numbering": 1,
   "nav_menu": {},
   "number_sections": true,
   "sideBar": true,
   "skip_h1_title": false,
   "title_cell": "Table of Contents",
   "title_sidebar": "Contents",
   "toc_cell": false,
   "toc_position": {},
   "toc_section_display": true,
   "toc_window_display": false
  }
 },
 "nbformat": 4,
 "nbformat_minor": 4
}
