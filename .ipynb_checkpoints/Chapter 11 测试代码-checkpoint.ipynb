{
 "cells": [
  {
   "cell_type": "markdown",
   "metadata": {
    "heading_collapsed": true
   },
   "source": [
    "# 测试函数"
   ]
  },
  {
   "cell_type": "code",
   "execution_count": 1,
   "metadata": {
    "hidden": true
   },
   "outputs": [
    {
     "name": "stdout",
     "output_type": "stream",
     "text": [
      "Enter 'q' at any time to quit.\n",
      "\n",
      "Please give me a first name: janis\n",
      "Please give me a last name: joplin\n",
      "\tNealy formatted name: Janis Joplin.\n",
      "\n",
      "Please give me a first name: bob\n",
      "Please give me a last name: dylan\n",
      "\tNealy formatted name: Bob Dylan.\n",
      "\n",
      "Please give me a first name: q\n"
     ]
    }
   ],
   "source": [
    "from name_function import get_formatted_name\n",
    "\n",
    "print(\"Enter 'q' at any time to quit.\")\n",
    "while True:\n",
    "    first = input(\"\\nPlease give me a first name: \")\n",
    "    if first == 'q':\n",
    "        break\n",
    "    last = input(\"Please give me a last name: \")\n",
    "    if last == 'q':\n",
    "        break\n",
    "        \n",
    "    formatted_name =get_formatted_name(first, last)\n",
    "    print(\"\\tNealy formatted name: \" + formatted_name + '.')"
   ]
  },
  {
   "cell_type": "code",
   "execution_count": 4,
   "metadata": {
    "hidden": true
   },
   "outputs": [
    {
     "name": "stderr",
     "output_type": "stream",
     "text": [
      "..\n",
      "----------------------------------------------------------------------\n",
      "Ran 2 tests in 0.003s\n",
      "\n",
      "OK\n"
     ]
    },
    {
     "data": {
      "text/plain": [
       "<unittest.main.TestProgram at 0x24c571151f0>"
      ]
     },
     "execution_count": 4,
     "metadata": {},
     "output_type": "execute_result"
    }
   ],
   "source": [
    "import unittest\n",
    "from name_function import get_formatted_name\n",
    "\n",
    "class NamesTestCase(unittest.TestCase):\n",
    "    \"\"\"测试name_function.py\"\"\"\n",
    "    \n",
    "    def test_first_last_name(self):\n",
    "        \"\"\"能够正确地处理像Janis Joplin这样的姓名吗？ \"\"\"\n",
    "        formatted_name = get_formatted_name('janis', 'joplin')\n",
    "        self.assertEqual(formatted_name, 'Janis Joplin')        # 断言放法，看书193\n",
    "    \n",
    "    def test_first_middle_last_name(self):\n",
    "        \"\"\"能够正确地处理像Wolfgang Amadeus Mozart这样的姓名吗？ \"\"\"\n",
    "        formatted_name = get_formatted_name('wolfgang', 'mozart', 'amadeus')\n",
    "        self.assertEqual(formatted_name, 'Wolfgang Amadeus Mozart')\n",
    "        \n",
    "unittest.main(argv=['first-arg-is-ignored'],exit=False)       #解决方法 https://blog.csdn.net/qq_42702821/article/details/88614718?biz_id=102&utm_term=Jupyter%20%E6%A8%A1%E5%9D%97unittest%E6%B5%8B%E8%AF%95%20%E6%8A%A5%E9%94%99&utm_medium=distribute.pc_search_result.none-task-blog-2~all~sobaiduweb~default-0-88614718&spm=1018.2118.3001.4187"
   ]
  },
  {
   "cell_type": "code",
   "execution_count": 3,
   "metadata": {
    "hidden": true
   },
   "outputs": [
    {
     "name": "stderr",
     "output_type": "stream",
     "text": [
      "test_first_last_name (__main__.NamesTestCase)\n",
      "能够正确地处理像Janis Joplin这样的姓名吗？ ... ok\n",
      "\n",
      "----------------------------------------------------------------------\n",
      "Ran 1 test in 0.002s\n",
      "\n",
      "OK\n"
     ]
    },
    {
     "data": {
      "text/plain": [
       "<unittest.main.TestProgram at 0x24c54220c40>"
      ]
     },
     "execution_count": 3,
     "metadata": {},
     "output_type": "execute_result"
    }
   ],
   "source": [
    "unittest.main(argv=['ignored', '-v'], exit=False)"
   ]
  },
  {
   "cell_type": "markdown",
   "metadata": {},
   "source": [
    "# 测试类"
   ]
  },
  {
   "cell_type": "code",
   "execution_count": 1,
   "metadata": {},
   "outputs": [
    {
     "name": "stdout",
     "output_type": "stream",
     "text": [
      "What language did you first learn to speak?\n",
      "Enter 'q' at any time to quit.\n",
      "\n",
      "Language: English\n",
      "Language: Spanish\n",
      "Language: English\n",
      "Language: Mandarin\n",
      "Language: q\n",
      "\n",
      "Thank you to everyone who participated in the survey!\n",
      "Survey results:\n",
      "- English\n",
      "- Spanish\n",
      "- English\n",
      "- Mandarin\n"
     ]
    }
   ],
   "source": [
    "from survey import AnonymousSurvey\n",
    "\n",
    "# 定义一个问题， 并创建一个表示调查的AnonymousSurvey对象\n",
    "question = \"What language did you first learn to speak?\"\n",
    "my_survey = AnonymousSurvey(question)\n",
    "\n",
    "# 显示问题并存储答案\n",
    "my_survey.show_question()\n",
    "print(\"Enter 'q' at any time to quit.\\n\")\n",
    "while True:\n",
    "    response = input(\"Language: \")\n",
    "    if response == 'q':\n",
    "        break\n",
    "    my_survey.store_response(response)\n",
    "    \n",
    "# 显示调查结果\n",
    "print(\"\\nThank you to everyone who participated in the survey!\")\n",
    "my_survey.show_results()"
   ]
  },
  {
   "cell_type": "code",
   "execution_count": 4,
   "metadata": {},
   "outputs": [
    {
     "name": "stderr",
     "output_type": "stream",
     "text": [
      "..\n",
      "----------------------------------------------------------------------\n",
      "Ran 2 tests in 0.003s\n",
      "\n",
      "OK\n"
     ]
    },
    {
     "data": {
      "text/plain": [
       "<unittest.main.TestProgram at 0x2643e996280>"
      ]
     },
     "execution_count": 4,
     "metadata": {},
     "output_type": "execute_result"
    }
   ],
   "source": [
    "import unittest\n",
    "from survey import AnonymousSurvey\n",
    "\n",
    "class TestAnonymousSurvey(unittest.TestCase):\n",
    "    \"\"\"针对AnonymousSurvey类测试\"\"\"\n",
    "    \n",
    "    def test_store_single_response(self):\n",
    "        \"\"\"测试单个答案会被妥善地存储\"\"\"\n",
    "        question = \"What language did you first learn to speak?\"\n",
    "        my_survey = AnonymousSurvey(question)\n",
    "        my_survey.store_response('English')\n",
    "        \n",
    "        self.assertIn('English', my_survey.responses)\n",
    "        \n",
    "    def test_store_three_response(self):\n",
    "        \"\"\"测试三个答案会被妥善地存储\"\"\"\n",
    "        question = \"What language did you first learn to speak?\"\n",
    "        my_survey = AnonymousSurvey(question)\n",
    "        responses = ['English', 'Spanish', 'Mandarin']\n",
    "        for response in responses:\n",
    "            my_survey.store_response(response)\n",
    "            \n",
    "        for response in responses:\n",
    "            self.assertIn(response, my_survey.responses)\n",
    "        \n",
    "unittest.main(argv=['first-arg-is-ignored'],exit=False)"
   ]
  },
  {
   "cell_type": "code",
   "execution_count": 6,
   "metadata": {},
   "outputs": [
    {
     "name": "stderr",
     "output_type": "stream",
     "text": [
      "..\n",
      "----------------------------------------------------------------------\n",
      "Ran 2 tests in 0.003s\n",
      "\n",
      "OK\n"
     ]
    },
    {
     "data": {
      "text/plain": [
       "<unittest.main.TestProgram at 0x2643cd337c0>"
      ]
     },
     "execution_count": 6,
     "metadata": {},
     "output_type": "execute_result"
    }
   ],
   "source": [
    "import unittest\n",
    "from survey import AnonymousSurvey\n",
    "\n",
    "class TestAnonymousSurvey(unittest.TestCase):\n",
    "    \"\"\"针对AnonymousSurvey类测试\"\"\"\n",
    "    \n",
    "    def setUp(self):\n",
    "        \"\"\"\n",
    "        创建一个调查对象和一组答案， 共使用的测试方法使用\n",
    "        \"\"\"\n",
    "        question = \"What language did you first learn to speak?\"\n",
    "        self.my_survey = AnonymousSurvey(question)\n",
    "        self.responses = ['English', 'Spanish', 'Mandarin']\n",
    "        \n",
    "    def test_store_single_response(self):\n",
    "        \"\"\"测试单个答案会被妥善地存储\"\"\"\n",
    "        self.my_survey.store_response(self.responses[0])\n",
    "        self.assertIn(self.responses[0], self.my_survey.responses)\n",
    "        \n",
    "    def test_store_three_response(self):\n",
    "        \"\"\"测试三个答案会被妥善地存储\"\"\"\n",
    "        for response in self.responses:\n",
    "            self.my_survey.store_response(response)\n",
    "        for response in self.responses:\n",
    "            self.assertIn(response, self.my_survey.responses) \n",
    "        \n",
    "unittest.main(argv=['first-arg-is-ignored'],exit=False)"
   ]
  },
  {
   "cell_type": "markdown",
   "metadata": {},
   "source": [
    "# 动手试一试"
   ]
  },
  {
   "cell_type": "markdown",
   "metadata": {
    "heading_collapsed": true
   },
   "source": [
    "## 11-1"
   ]
  },
  {
   "cell_type": "code",
   "execution_count": 2,
   "metadata": {
    "hidden": true
   },
   "outputs": [
    {
     "name": "stderr",
     "output_type": "stream",
     "text": [
      "test_city_country (__main__.CityCountryTestCase)\n",
      "能够正确地得到像Santiago, Chile这样的字符串 ... ok\n",
      "\n",
      "----------------------------------------------------------------------\n",
      "Ran 1 test in 0.002s\n",
      "\n",
      "OK\n"
     ]
    },
    {
     "data": {
      "text/plain": [
       "<unittest.main.TestProgram at 0x1d8010c10d0>"
      ]
     },
     "execution_count": 2,
     "metadata": {},
     "output_type": "execute_result"
    }
   ],
   "source": [
    "import unittest\n",
    "from city_functions import get_city_country\n",
    "\n",
    "class CityCountryTestCase(unittest.TestCase):\n",
    "    \"\"\"测试city_functions.py\"\"\"\n",
    "    \n",
    "    def test_city_country(self):\n",
    "        \"\"\"能够正确地得到像Santiago, Chile这样的字符串\"\"\"\n",
    "        city_country = get_city_country('chengdu', 'china')\n",
    "        self.assertEqual(city_country, 'Chengdu, China')\n",
    "        \n",
    "unittest.main(argv=['ignored', '-v'], exit=False)"
   ]
  },
  {
   "cell_type": "markdown",
   "metadata": {
    "heading_collapsed": true
   },
   "source": [
    "## 11-2"
   ]
  },
  {
   "cell_type": "code",
   "execution_count": 2,
   "metadata": {
    "hidden": true
   },
   "outputs": [
    {
     "name": "stderr",
     "output_type": "stream",
     "text": [
      "test_city_country (__main__.CityCountryTestCase)\n",
      "能够正确地得到像Santiago, Chile 这样的字符串吗? ... ok\n",
      "test_city_country_population (__main__.CityCountryTestCase)\n",
      "能够正确地得到像Santiago, Chile - Population 5000000 这样的字符串? ... ok\n",
      "\n",
      "----------------------------------------------------------------------\n",
      "Ran 2 tests in 0.003s\n",
      "\n",
      "OK\n"
     ]
    },
    {
     "data": {
      "text/plain": [
       "<unittest.main.TestProgram at 0x26224b1d5b0>"
      ]
     },
     "execution_count": 2,
     "metadata": {},
     "output_type": "execute_result"
    }
   ],
   "source": [
    "import unittest\n",
    "from city_functions import get_city_country\n",
    "\n",
    "class CityCountryTestCase(unittest.TestCase):\n",
    "    \"\"\"测试city_functions.py\"\"\"\n",
    "    \n",
    "    def test_city_country(self):\n",
    "        \"\"\"能够正确地得到像Santiago, Chile 这样的字符串吗? \"\"\"\n",
    "        city_country = get_city_country('chengdu', 'china')\n",
    "        self.assertEqual(city_country, 'Chengdu, China')\n",
    "        \n",
    "    def test_city_country_population(self):\n",
    "        \"\"\"能够正确地得到像Santiago, Chile - Population 5000000 这样的字符串? \"\"\"\n",
    "        city_country = get_city_country('chengdu', 'china', 16580000)\n",
    "        self.assertEqual(city_country, 'Chengdu, China - Population 16580000')\n",
    "        \n",
    "unittest.main(argv=['ignored', '-v'], exit=False)"
   ]
  },
  {
   "cell_type": "markdown",
   "metadata": {},
   "source": [
    "## 11-3"
   ]
  },
  {
   "cell_type": "code",
   "execution_count": 1,
   "metadata": {},
   "outputs": [
    {
     "name": "stderr",
     "output_type": "stream",
     "text": [
      "..\n",
      "----------------------------------------------------------------------\n",
      "Ran 2 tests in 0.030s\n",
      "\n",
      "OK\n"
     ]
    },
    {
     "data": {
      "text/plain": [
       "<unittest.main.TestProgram at 0x26811708a00>"
      ]
     },
     "execution_count": 1,
     "metadata": {},
     "output_type": "execute_result"
    }
   ],
   "source": [
    "import unittest\n",
    "from employee import Employee\n",
    "\n",
    "class TestEmployee(unittest.TestCase):\n",
    "    \"\"\"针对Employee类测试\"\"\"\n",
    "    \n",
    "    def setUp(self):\n",
    "        \"\"\"避免在每个测试方法中都创建新的雇员实例\"\"\"\n",
    "        \n",
    "        self.certain_employee = Employee('jaden', 'smith', 2000)\n",
    "        \n",
    "    def test_give_default_raise(self):\n",
    "        self.certain_employee.give_raise()\n",
    "        self.assertEqual(self.certain_employee.pay, 7000)\n",
    "\n",
    "    def test_give_custom_raise(self):\n",
    "        self.certain_employee.give_raise(1000)\n",
    "        self.assertEqual(self.certain_employee.pay, 3000)\n",
    "        \n",
    "unittest.main(argv=['first-arg-is-ignored'],exit=False)"
   ]
  }
 ],
 "metadata": {
  "kernelspec": {
   "display_name": "Python 3",
   "language": "python",
   "name": "python3"
  },
  "language_info": {
   "codemirror_mode": {
    "name": "ipython",
    "version": 3
   },
   "file_extension": ".py",
   "mimetype": "text/x-python",
   "name": "python",
   "nbconvert_exporter": "python",
   "pygments_lexer": "ipython3",
   "version": "3.8.3"
  },
  "toc": {
   "base_numbering": 1,
   "nav_menu": {},
   "number_sections": true,
   "sideBar": true,
   "skip_h1_title": false,
   "title_cell": "Table of Contents",
   "title_sidebar": "Contents",
   "toc_cell": false,
   "toc_position": {},
   "toc_section_display": true,
   "toc_window_display": false
  }
 },
 "nbformat": 4,
 "nbformat_minor": 4
}
